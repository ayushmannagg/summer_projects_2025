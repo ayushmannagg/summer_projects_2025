{
 "cells": [
  {
   "cell_type": "code",
   "execution_count": 1,
   "id": "6b974f3a-945c-4af0-b622-c28827695936",
   "metadata": {},
   "outputs": [
    {
     "name": "stdout",
     "output_type": "stream",
     "text": [
      "The dot product is: 2.1672\n"
     ]
    }
   ],
   "source": [
    "input_vector = [1.72, 1.23]\n",
    "weights_1 = [1.26, 0]\n",
    "weights_2 = [2.17, 0.32]\n",
    "\n",
    "# Computing the dot product of input_vector and weights_1\n",
    "first_indexes_mult = input_vector[0] * weights_1[0]\n",
    "second_indexes_mult = input_vector[1] * weights_1[1]\n",
    "dot_product_1 = first_indexes_mult + second_indexes_mult\n",
    "\n",
    "print(f\"The dot product is: {dot_product_1}\")"
   ]
  },
  {
   "cell_type": "code",
   "execution_count": 2,
   "id": "fcb1cbac-f448-434e-98a3-1a1e91bd1c6e",
   "metadata": {},
   "outputs": [
    {
     "name": "stdout",
     "output_type": "stream",
     "text": [
      "The dot product is: 2.1672\n"
     ]
    }
   ],
   "source": [
    "import numpy as np\n",
    "dot_product_1 = np.dot(input_vector, weights_1)\n",
    "print (f\"The dot product is: {dot_product_1}\")\n"
   ]
  },
  {
   "cell_type": "markdown",
   "id": "bdd57e9d-63e1-4e7e-8e6f-a5b6b9fd8d9b",
   "metadata": {},
   "source": [
    "we used numpy for dot product of the arrays"
   ]
  },
  {
   "cell_type": "code",
   "execution_count": 3,
   "id": "3f2c250e-7fcc-4181-86fd-f2eaf3a7884a",
   "metadata": {},
   "outputs": [
    {
     "name": "stdout",
     "output_type": "stream",
     "text": [
      "The dot product is: 4.1259999999999994\n"
     ]
    }
   ],
   "source": [
    "dot_product_2 = np.dot(input_vector,weights_2)\n",
    "print (f\"The dot product is: {dot_product_2}\")"
   ]
  },
  {
   "cell_type": "code",
   "execution_count": 4,
   "id": "bc0b1f71-99ec-491d-b0d2-315fb93a31e3",
   "metadata": {},
   "outputs": [
    {
     "name": "stdout",
     "output_type": "stream",
     "text": [
      "The prediction Result is: [0.7985731]\n"
     ]
    }
   ],
   "source": [
    "input_vector = np.array([1.66, 1.56])\n",
    "weights_1 = np.array([1.45, -0.66])\n",
    "bias = np.array ([0.0])\n",
    "def sigmoid(x):\n",
    "    return 1/ (1+ np.exp(-x))\n",
    "\n",
    "def make_prediction(input_vectors, weights, bias):\n",
    "        layer_1 = np.dot(input_vector, weights) + bias\n",
    "        layer_2 = sigmoid(layer_1)\n",
    "        return layer_2\n",
    "\n",
    "prediction = make_prediction(input_vector, weights_1, bias)\n",
    "\n",
    "print(f\"The prediction Result is: {prediction}\")\n"
   ]
  },
  {
   "cell_type": "code",
   "execution_count": 5,
   "id": "9be70370-0839-4392-accd-654749114e0f",
   "metadata": {},
   "outputs": [
    {
     "name": "stdout",
     "output_type": "stream",
     "text": [
      "The prediction result is: [0.87101915]\n"
     ]
    }
   ],
   "source": [
    "\n",
    "input_vector = np.array([2, 1.5])\n",
    "\n",
    "prediction = make_prediction(input_vector, weights_1, bias)\n",
    "\n",
    "print(f\"The prediction result is: {prediction}\")"
   ]
  },
  {
   "cell_type": "markdown",
   "id": "f467be65-0664-4e0e-9af6-239c7d65c35f",
   "metadata": {},
   "source": [
    "the network made a wrong guess\n",
    "so now we need to train the neural network\n",
    "we will use gradient descent and back propagation to adjust weights.\n",
    "So now we need to compute the errors\n",
    "we will use Cost function to measure the error"
   ]
  },
  {
   "cell_type": "code",
   "execution_count": 6,
   "id": "b54c15eb-c879-4951-ac30-45460a608c4a",
   "metadata": {},
   "outputs": [
    {
     "name": "stdout",
     "output_type": "stream",
     "text": [
      "Prediction: [0.87101915] ; Error: [0.75867436]\n"
     ]
    }
   ],
   "source": [
    "target = 0\n",
    "mse = np.square(prediction - target)\n",
    "\n",
    "print (f\"Prediction: {prediction} ; Error: {mse}\")\n"
   ]
  },
  {
   "cell_type": "markdown",
   "id": "e4df716b-d7d7-46c1-8ff1-c34e8c49b6d1",
   "metadata": {},
   "source": [
    "First, lets learn to change only the weights and lets keep the bias fixed"
   ]
  },
  {
   "cell_type": "markdown",
   "id": "54cb461b-5aa6-4e43-80c6-7ad446a992c2",
   "metadata": {},
   "source": [
    "we will calculate the derivative that is gradient."
   ]
  },
  {
   "cell_type": "code",
   "execution_count": 7,
   "id": "3460b621-0aaa-4f26-aa79-bd4267d6b2a1",
   "metadata": {},
   "outputs": [
    {
     "name": "stdout",
     "output_type": "stream",
     "text": [
      " The derivative is [1.7420383]\n"
     ]
    }
   ],
   "source": [
    "derivative = 2 * (prediction - target)\n",
    "print (f\" The derivative is {derivative}\")\n"
   ]
  },
  {
   "cell_type": "markdown",
   "id": "ac8251ed-cf08-4093-a613-ddb558c35e2e",
   "metadata": {},
   "source": [
    "because the derivative of x^2 is 2x\n",
    "Now lets update the weights"
   ]
  },
  {
   "cell_type": "code",
   "execution_count": 8,
   "id": "ad99c161-33fe-4b53-9201-65a9c66b0d2f",
   "metadata": {},
   "outputs": [
    {
     "name": "stdout",
     "output_type": "stream",
     "text": [
      "Prediction: [0.01496248]; Error: [0.00022388]\n"
     ]
    }
   ],
   "source": [
    "\n",
    "weights_1 = weights_1 - derivative\n",
    "\n",
    "prediction = make_prediction(input_vector, weights_1, bias)\n",
    "\n",
    "error = (prediction - target) ** 2\n",
    "\n",
    "print(f\"Prediction: {prediction}; Error: {error}\")"
   ]
  },
  {
   "cell_type": "markdown",
   "id": "d4771343-763c-479b-a78d-3240a5fb146e",
   "metadata": {},
   "source": [
    "we use the alpha parameter to control the learning rate of the model, that is using the fraction of the derivative"
   ]
  },
  {
   "cell_type": "markdown",
   "id": "0ca06907-dafa-4211-a435-c5aa1c18b89e",
   "metadata": {},
   "source": [
    "now we are also going tochange the bias\n",
    "for doing this we'll need chain rule from calculus, because now we have a function that produces its results using other functions."
   ]
  },
  {
   "cell_type": "code",
   "execution_count": 9,
   "id": "efdc574b-32d5-4ff8-a26b-96cecb3b51a5",
   "metadata": {},
   "outputs": [
    {
     "ename": "NameError",
     "evalue": "name 'derror_dprediction' is not defined",
     "output_type": "error",
     "traceback": [
      "\u001b[31m---------------------------------------------------------------------------\u001b[39m",
      "\u001b[31mNameError\u001b[39m                                 Traceback (most recent call last)",
      "\u001b[36mCell\u001b[39m\u001b[36m \u001b[39m\u001b[32mIn[9]\u001b[39m\u001b[32m, line 2\u001b[39m\n\u001b[32m      1\u001b[39m derrror_dweights = (\n\u001b[32m----> \u001b[39m\u001b[32m2\u001b[39m     \u001b[43mderror_dprediction\u001b[49m * dprediction_layer1 * dlayer1_dweights\n\u001b[32m      3\u001b[39m )\n",
      "\u001b[31mNameError\u001b[39m: name 'derror_dprediction' is not defined"
     ]
    }
   ],
   "source": [
    "derrror_dweights = (\n",
    "    derror_dprediction * dprediction_layer1 * dlayer1_dweights\n",
    ")"
   ]
  },
  {
   "attachments": {},
   "cell_type": "markdown",
   "id": "6f5bc9bf-2b16-4d80-8526-95f0d44cca4f",
   "metadata": {},
   "source": [
    "now we will use the algorithm that is called the backpropagation.\n",
    "we want to take the derivative of error function with respect to the bias. "
   ]
  },
  {
   "cell_type": "code",
   "execution_count": null,
   "id": "50f4dbfe-9558-4d4e-b4b5-934d2908c46a",
   "metadata": {},
   "outputs": [],
   "source": [
    "def sigmoid_deriv(x):\n",
    "    return sigmoid(x) * (1-(sigmoid(x))"
   ]
  },
  {
   "cell_type": "markdown",
   "id": "f0e668ae-1a3c-448b-9289-f94166cf3b67",
   "metadata": {},
   "source": [
    "derivative of the sigmoid function is s(x)*(1-s(x))"
   ]
  },
  {
   "cell_type": "code",
   "execution_count": null,
   "id": "7f4144ff-45b9-401b-ae2e-d88c777e4315",
   "metadata": {},
   "outputs": [],
   "source": [
    "derror_dprediction = 2* (prediction-target)\n",
    "layer_1 = np.dot(input_vector, weights_1) + bais\n",
    "dprediction_dlayer1 = sigmoid_deriv(layer_1)\n",
    "dlayer_dbias = 1\n",
    "\n",
    "derror_dbias = (\n",
    "    derror_dprediction * dprediction_layer1 * dlayer1_dbias)\n"
   ]
  }
 ],
 "metadata": {
  "kernelspec": {
   "display_name": "Python 3 (ipykernel)",
   "language": "python",
   "name": "python3"
  },
  "language_info": {
   "codemirror_mode": {
    "name": "ipython",
    "version": 3
   },
   "file_extension": ".py",
   "mimetype": "text/x-python",
   "name": "python",
   "nbconvert_exporter": "python",
   "pygments_lexer": "ipython3",
   "version": "3.12.2"
  }
 },
 "nbformat": 4,
 "nbformat_minor": 5
}
